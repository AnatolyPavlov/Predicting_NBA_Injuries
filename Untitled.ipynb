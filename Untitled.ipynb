{
 "cells": [
  {
   "cell_type": "code",
   "execution_count": 1,
   "metadata": {
    "collapsed": true
   },
   "outputs": [],
   "source": [
    "import pandas as pd\n",
    "import os\n",
    "import json\n",
    "from datetime import datetime, timedelta\n",
    "import numpy as np\n",
    "import matplotlib.pyplot as plt\n",
    "import seaborn as sns\n",
    "import scipy.stats as scs\n",
    "import re\n",
    "from sklearn.ensemble import GradientBoostingClassifier, RandomForestClassifier\n",
    "from sklearn.linear_model import LogisticRegressionCV\n",
    "from sklearn.cross_validation import train_test_split, cross_val_score\n",
    "from sklearn.metrics import auc, f1_score, precision_score, recall_score, roc_auc_score, roc_curve, precision_recall_curve\n",
    "from sklearn.grid_search import GridSearchCV\n",
    "from collections import defaultdict\n",
    "import cPickle as pickle"
   ]
  },
  {
   "cell_type": "code",
   "execution_count": 6,
   "metadata": {
    "collapsed": true
   },
   "outputs": [],
   "source": [
    "def start_end_season(keyword):\n",
    "\n",
    "    fns = os.listdir('data/')\n",
    "    cols = json_extract('2013_{}.json'.format(keyword))[0]\n",
    "\n",
    "    df = []\n",
    "    for fn in fns:\n",
    "        if keyword in fn:\n",
    "            cols, vals = json_extract(fn)\n",
    "            tmp = pd.DataFrame(vals, columns=cols)\n",
    "            df.append((datetime.strptime(tmp['GAME_DATE'].min(), '%Y-%m-%d'),\n",
    "                       datetime.strptime(tmp['GAME_DATE'].max(), '%Y-%m-%d')))            \n",
    "    return df\n",
    "\n",
    "def json_extract(file):\n",
    "    with open('data/{}'.format(file)) as f:\n",
    "        data = json.load(f)\n",
    "        cols = data['resultSets'][0]['headers']\n",
    "        vals = data['resultSets'][0]['rowSet']\n",
    "    return cols, vals"
   ]
  },
  {
   "cell_type": "code",
   "execution_count": 8,
   "metadata": {
    "collapsed": false
   },
   "outputs": [],
   "source": [
    "start_data = datetime.strptime('10-29-2013', '%m-%d-%Y')\n",
    "\n",
    "# creating dataframe of everyday in a season\n",
    "season_dt_range = start_end_season('gamelog')\n",
    "\n",
    "seasons = pd.DataFrame(columns=['Date'])\n",
    "for range in season_dt_range:\n",
    "    tmp = pd.DataFrame(pd.date_range(range[0], range[1], freq='D'), columns=['Date'])\n",
    "    seasons = seasons.append(tmp)\n",
    "\n",
    "seasons = seasons[seasons['Date'] > start_data]\n",
    "seasons.sort_values('Date', inplace=True)\n",
    "seasons.rename(columns={'Date': 'Season Dates'}, inplace=True)"
   ]
  },
  {
   "cell_type": "markdown",
   "metadata": {},
   "source": [
    "#### season_dt_range"
   ]
  },
  {
   "cell_type": "code",
   "execution_count": null,
   "metadata": {
    "collapsed": true
   },
   "outputs": [],
   "source": []
  }
 ],
 "metadata": {
  "kernelspec": {
   "display_name": "Python 2",
   "language": "python",
   "name": "python2"
  },
  "language_info": {
   "codemirror_mode": {
    "name": "ipython",
    "version": 2
   },
   "file_extension": ".py",
   "mimetype": "text/x-python",
   "name": "python",
   "nbconvert_exporter": "python",
   "pygments_lexer": "ipython2",
   "version": "2.7.11"
  }
 },
 "nbformat": 4,
 "nbformat_minor": 0
}
