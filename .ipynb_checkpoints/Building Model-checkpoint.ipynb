{
 "cells": [
  {
   "cell_type": "code",
   "execution_count": 158,
   "metadata": {
    "collapsed": false
   },
   "outputs": [],
   "source": [
    "import pandas as pd\n",
    "import os\n",
    "import json\n",
    "from datetime import datetime, timedelta\n",
    "import numpy as np\n",
    "import matplotlib.pyplot as plt\n",
    "import seaborn as sns\n",
    "import scipy.stats as scs\n",
    "import re\n",
    "from sklearn.ensemble import GradientBoostingClassifier, RandomForestClassifier\n",
    "from sklearn.linear_model import LogisticRegressionCV\n",
    "from sklearn.cross_validation import train_test_split, cross_val_score\n",
    "from sklearn.metrics import auc, f1_score, precision_score, recall_score, roc_auc_score, roc_curve, precision_recall_curve\n",
    "from sklearn.grid_search import GridSearchCV\n",
    "from collections import defaultdict\n",
    "import cPickle as pickle\n",
    "from matplotlib import rcParams\n",
    "rcParams.update({'figure.autolayout': True})\n",
    "\n",
    "%matplotlib inline"
   ]
  },
  {
   "cell_type": "code",
   "execution_count": 43,
   "metadata": {
    "collapsed": true
   },
   "outputs": [],
   "source": [
    "# function to extract information from the json files\n",
    "def json_extract(file):\n",
    "    with open('data/{}'.format(file)) as f:\n",
    "        data = json.load(f)\n",
    "        cols = data['resultSets'][0]['headers']\n",
    "        vals = data['resultSets'][0]['rowSet']\n",
    "    return cols, vals\n",
    "\n",
    "\n",
    "# function to create dataframe from the json information\n",
    "# keyword = gamelog, season_stats, or heights_weights\n",
    "def create_df(keyword, add_year=False):\n",
    "\n",
    "    fns = os.listdir('data/')\n",
    "\n",
    "    cols = json_extract('2013_{}.json'.format(keyword))[0]\n",
    "    if add_year:\n",
    "        cols += ['YEAR']\n",
    "    df = pd.DataFrame(columns=cols)\n",
    "\n",
    "    for fn in fns:\n",
    "        if keyword in fn:\n",
    "            tmp_cols, tmp_vals = json_extract(fn)\n",
    "            df_tmp = pd.DataFrame(tmp_vals, columns=tmp_cols)\n",
    "            if add_year:\n",
    "                df_tmp['YEAR'] = int(fn[0:4])\n",
    "            df = df.append(df_tmp)\n",
    "            del df_tmp, tmp_cols, tmp_vals\n",
    "    return df\n",
    "\n",
    "\n",
    "def parse_date(df, date_col, create_sep_cols=True):\n",
    "\n",
    "    df[date_col] = pd.to_datetime(df[date_col], infer_datetime_format=True)\n",
    "    if create_sep_cols:\n",
    "        date = df[date_col]\n",
    "        df['YEAR'] = date.apply(lambda x: x.year)\n",
    "        df['MONTH'] = date.apply(lambda x: x.month)\n",
    "        df['DAY'] = date.apply(lambda x: x.day)\n",
    "\n",
    "    return df\n",
    "\n",
    "\n",
    "def clean_notes(x):\n",
    "    found = re.findall(r'\\s\\(\\w\\)', x)\n",
    "    if found:\n",
    "        return x.replace(found[0], '')\n",
    "    else:\n",
    "        return x\n",
    "\n",
    "    \n",
    "# preprocess injury df\n",
    "def prep_injury(df):\n",
    "\n",
    "    drop_vars = ['Unnamed: 0', 'Team']\n",
    "    df.drop(drop_vars, axis=1, inplace=True)\n",
    "    \n",
    "    # converting the Date column to datetime objects\n",
    "    df = parse_date(df, 'Date')\n",
    "#     df['Date'] = pd.to_datetime(df['Date'])\n",
    "\n",
    "    # filter out all events not directly related to basketball\n",
    "    df = df[(~df['Notes'].str.contains('flu')) &\n",
    "            (~df['Notes'].str.contains('rest')) &\n",
    "            (~df['Notes'].str.contains('jail')) &\n",
    "            (~df['Notes'].str.contains('ill')) &\n",
    "            (~df['Notes'].str.contains('asthma')) &\n",
    "            (~df['Notes'].str.contains('virus')) &\n",
    "            (~df['Notes'].str.contains('return')) &\n",
    "            (~df['Notes'].str.contains('pneumonia')) &\n",
    "            (~df['Notes'].str.contains('coach')) &\n",
    "            (~df['Notes'].str.contains('sister')) &\n",
    "            (~df['Notes'].str.contains('Fined')) &\n",
    "            (~df['Notes'].str.contains('flu')) &\n",
    "            (~df['Notes'].str.contains('GM')) &\n",
    "            (~df['Notes'].str.contains('flu')) &\n",
    "            (~df['Notes'].str.contains('team')) &\n",
    "            (~df['Notes'].str.contains('canal')) &\n",
    "            (~df['Notes'].str.contains('food')) &\n",
    "            (~df['Notes'].str.contains('virus')) &\n",
    "            (~df['Notes'].str.contains('wife')) &\n",
    "            (~df['Notes'].str.contains('asthma')) &\n",
    "            (~df['Notes'].str.contains('chin')) &\n",
    "            (~df['Notes'].str.contains('headache')) &\n",
    "            (~df['Notes'].str.contains('anemia')) &\n",
    "            (~df['Notes'].str.contains('dizziness')) &\n",
    "            (~df['Notes'].str.contains('cold')) &\n",
    "            (~df['Notes'].str.contains('throat')) &\n",
    "            (~df['Notes'].str.contains('molar')) &\n",
    "            (~df['Notes'].str.contains('dizziness')) &\n",
    "            (~df['Notes'].str.contains('rash')) &\n",
    "            (~df['Notes'].str.contains('stomach ache')) &\n",
    "            (~df['Notes'].str.contains('bronchitis')) &\n",
    "            (~df['Notes'].str.contains('concussion')) &\n",
    "            (~df['Notes'].str.contains('recover')) &\n",
    "            (~df['Notes'].str.contains('mump'))]\n",
    "\n",
    "    # clean notes\n",
    "    df['Notes'] = df['Notes'].apply(clean_notes)\n",
    "    \n",
    "    # stripping blank spaces from player names\n",
    "    df['Player'] = df['Player'].apply(lambda x: x.strip())\n",
    "    \n",
    "    # removing periods from names like C.J.\n",
    "    df['Player'] = df['Player'].apply(lambda x: ''.join(x.split('.')) if re.match(r'\\w\\.\\w\\.', x) else x)\n",
    "    \n",
    "    # removing characters like (a) and (b)\n",
    "    df['Player'] = df['Player'].apply(lambda x: ' '.join(x.split()[:2]) if re.match(r'.+\\(.+\\)', x) else x)\n",
    "    \n",
    "    df[df['Player'] == '(William) Tony Parker']['Player'] = 'Tony Parker'\n",
    "    df = df[df['Player'] != '']\n",
    "\n",
    "    unique_players = gamelog_df['PLAYER_NAME'].unique()\n",
    "    for player in unique_players:\n",
    "        df['Player'] = df['Player'].apply(lambda x: player if player in x else x)\n",
    "\n",
    "    return df\n",
    "\n",
    "\n",
    "# preprocess\n",
    "def prep_gamelog(df):\n",
    "\n",
    "    # converting the Date column to datetime objects\n",
    "    df = parse_date(df, 'GAME_DATE')\n",
    "\n",
    "    drop_vars = ['SEASON_ID', 'TEAM_ABBREVIATION', 'TEAM_NAME',\n",
    "                 'WL', 'FG_PCT', 'FG3_PCT', 'FT_PCT',\n",
    "                 'VIDEO_AVAILABLE']\n",
    "    df.drop(drop_vars, axis=1, inplace=True)\n",
    "\n",
    "    return df\n",
    "\n",
    "\n",
    "def start_end_season(keyword, add_year=False):\n",
    "\n",
    "    fns = os.listdir('data/')\n",
    "    cols = json_extract('2013_{}.json'.format(keyword))[0]\n",
    "    if add_year:\n",
    "        cols += ['YEAR']\n",
    "    df = pd.DataFrame(columns=cols)\n",
    "\n",
    "    season_range = []\n",
    "    for fn in fns:\n",
    "        if keyword in fn:\n",
    "            cols, vals = json_extract(fn)\n",
    "            df = pd.DataFrame(vals, columns=cols)\n",
    "            season_range.append((datetime.strptime(df['GAME_DATE'].min(), '%Y-%m-%d'),\n",
    "                                 datetime.strptime(df['GAME_DATE'].max(), '%Y-%m-%d')))            \n",
    "    return season_range\n",
    "\n",
    "\n",
    "def create_feat_mat(df, data_window=21):\n",
    "    feat_mat = pd.DataFrame()\n",
    "    player_id = df['PLAYER_ID'].unique().tolist()\n",
    "    for id in player_id:\n",
    "        tmp = df[df['PLAYER_ID'] == id]\n",
    "        roll_mean_df = pd.rolling_mean(tmp, data_window)\n",
    "        feat_mat = feat_mat.append(roll_mean_df)\n",
    "    return feat_mat\n",
    "\n",
    "\n",
    "def pickles_to_pandas(keyword, add_year=False):\n",
    "    \n",
    "    fns = os.listdir('data/')\n",
    "    with open('data/2014_{}_stats.pickle'.format(keyword), 'r') as f:\n",
    "        pkl_f = pickle.load(f)\n",
    "        cols = pkl_f[0]['resultSets'][0]['headers']\n",
    "    df = pd.DataFrame(columns=cols)\n",
    "    for fn in fns:\n",
    "        if keyword in fn:\n",
    "            with open('data/{}'.format(fn), 'r') as f:\n",
    "                pkl_f = pickle.load(f)\n",
    "            for item in pkl_f:\n",
    "                tmp_cols = item['resultSets'][0]['headers']\n",
    "                tmp_vals = item['resultSets'][0]['rowSet']\n",
    "                df_tmp = pd.DataFrame(tmp_vals, columns=tmp_cols)\n",
    "                if add_year:\n",
    "                    df_tmp['YEAR'] = int(fn[0:4])\n",
    "                df = df.append(df_tmp)\n",
    "                del df_tmp, tmp_cols, tmp_vals\n",
    "    return df\n",
    "        \n",
    "    \n",
    "def shuffle_rows(df):\n",
    "  return df.reindex(np.random.permutation(df.index))\n",
    "\n",
    "def pace_tracking(keep_cols, keyword):\n",
    "    df = pickles_to_pandas(keyword, add_year=True)\n",
    "    df.drop(df.columns - keep_cols, axis=1, inplace=True)\n",
    "    df.rename(columns={'GAME_ID': 'GAME_ID_{}'.format(keyword.upper()),\n",
    "                     'PLAYER_NAME': 'PLAYER_NAME_{}'.format(keyword.upper()),\n",
    "                     'PLAYER_ID': 'PLAYER_ID_{}'.format(keyword.upper()),\n",
    "                     'YEAR': 'YEAR_{}'.format(keyword.upper())},\n",
    "              inplace=True) \n",
    "    return df\n",
    "\n",
    "def game_loc(x):\n",
    "    if 'vs.' in x:\n",
    "        return city_abbrv[re.split(r' vs. ', x)[0]]\n",
    "    elif '@' in x:\n",
    "        return city_abbrv[re.split(r' @ ', x)[1]]"
   ]
  },
  {
   "cell_type": "code",
   "execution_count": 44,
   "metadata": {
    "collapsed": false,
    "scrolled": true
   },
   "outputs": [
    {
     "name": "stderr",
     "output_type": "stream",
     "text": [
      "/home/peter/anaconda2/lib/python2.7/site-packages/ipykernel/__main__.py:99: SettingWithCopyWarning: \n",
      "A value is trying to be set on a copy of a slice from a DataFrame.\n",
      "Try using .loc[row_indexer,col_indexer] = value instead\n",
      "\n",
      "See the caveats in the documentation: http://pandas.pydata.org/pandas-docs/stable/indexing.html#indexing-view-versus-copy\n",
      "/home/peter/anaconda2/lib/python2.7/site-packages/ipykernel/__main__.py:102: SettingWithCopyWarning: \n",
      "A value is trying to be set on a copy of a slice from a DataFrame.\n",
      "Try using .loc[row_indexer,col_indexer] = value instead\n",
      "\n",
      "See the caveats in the documentation: http://pandas.pydata.org/pandas-docs/stable/indexing.html#indexing-view-versus-copy\n",
      "/home/peter/anaconda2/lib/python2.7/site-packages/ipykernel/__main__.py:105: SettingWithCopyWarning: \n",
      "A value is trying to be set on a copy of a slice from a DataFrame.\n",
      "Try using .loc[row_indexer,col_indexer] = value instead\n",
      "\n",
      "See the caveats in the documentation: http://pandas.pydata.org/pandas-docs/stable/indexing.html#indexing-view-versus-copy\n",
      "/home/peter/anaconda2/lib/python2.7/site-packages/ipykernel/__main__.py:108: SettingWithCopyWarning: \n",
      "A value is trying to be set on a copy of a slice from a DataFrame.\n",
      "Try using .loc[row_indexer,col_indexer] = value instead\n",
      "\n",
      "See the caveats in the documentation: http://pandas.pydata.org/pandas-docs/stable/indexing.html#indexing-view-versus-copy\n",
      "/home/peter/anaconda2/lib/python2.7/site-packages/ipykernel/__main__.py:110: SettingWithCopyWarning: \n",
      "A value is trying to be set on a copy of a slice from a DataFrame.\n",
      "Try using .loc[row_indexer,col_indexer] = value instead\n",
      "\n",
      "See the caveats in the documentation: http://pandas.pydata.org/pandas-docs/stable/indexing.html#indexing-view-versus-copy\n"
     ]
    }
   ],
   "source": [
    "ss_df = create_df('season_stats', add_year=True)\n",
    "hw_df = create_df('heights_weights', add_year=True)\n",
    "gamelog_df = create_df('gamelog')\n",
    "gamelog_df = prep_gamelog(gamelog_df)\n",
    "injury_df = pd.read_csv('data/injuries.csv')\n",
    "injury_df = prep_injury(injury_df)"
   ]
  },
  {
   "cell_type": "code",
   "execution_count": 4,
   "metadata": {
    "collapsed": true
   },
   "outputs": [],
   "source": [
    "pd.options.display.max_columns = 100"
   ]
  },
  {
   "cell_type": "code",
   "execution_count": 47,
   "metadata": {
    "collapsed": false
   },
   "outputs": [],
   "source": [
    "gamelog = gamelog_df\n",
    "injury = injury_df"
   ]
  },
  {
   "cell_type": "code",
   "execution_count": 48,
   "metadata": {
    "collapsed": false
   },
   "outputs": [
    {
     "name": "stderr",
     "output_type": "stream",
     "text": [
      "/home/peter/anaconda2/lib/python2.7/site-packages/pandas/core/frame.py:2754: SettingWithCopyWarning: \n",
      "A value is trying to be set on a copy of a slice from a DataFrame\n",
      "\n",
      "See the caveats in the documentation: http://pandas.pydata.org/pandas-docs/stable/indexing.html#indexing-view-versus-copy\n",
      "  **kwargs)\n"
     ]
    }
   ],
   "source": [
    "start_data = datetime.strptime('10-29-2013', '%m-%d-%Y')\n",
    "gamelog = gamelog[gamelog['GAME_DATE'] >= start_data]\n",
    "injury = injury[injury['Date'] >= start_data]\n",
    "hw_df = hw_df[hw_df['YEAR'] >= 2013]\n",
    "injury.rename(columns={'Player':'Player_Injury',\n",
    "                       'Date': 'Date_Injury'\n",
    "                      },\n",
    "              inplace=True)"
   ]
  },
  {
   "cell_type": "code",
   "execution_count": 12,
   "metadata": {
    "collapsed": false
   },
   "outputs": [
    {
     "name": "stderr",
     "output_type": "stream",
     "text": [
      "/home/peter/anaconda2/lib/python2.7/site-packages/ipykernel/__main__.py:3: FutureWarning: using '-' to provide set differences with Indexes is deprecated, use .difference()\n",
      "  app.launch_new_instance()\n"
     ]
    }
   ],
   "source": [
    "pace_keep_cols = ['GAME_ID', 'PACE', 'PLAYER_ID', 'PLAYER_NAME', 'YEAR']\n",
    "tracking_keep_cols = ['GAME_ID', 'SPD', 'DIST', 'PLAYER_ID', 'PLAYER_NAME', 'YEAR']\n",
    "  \n",
    "tracking = pace_tracking(tracking_keep_cols, 'tracking')\n",
    "pace = pace_tracking(pace_keep_cols, 'pace')"
   ]
  },
  {
   "cell_type": "code",
   "execution_count": null,
   "metadata": {
    "collapsed": false
   },
   "outputs": [],
   "source": [
    "# pace = pickles_to_pandas('pace', add_year=True)\n",
    "# pace_keep_cols = ['GAME_ID', 'PACE', 'PLAYER_ID', 'PLAYER_NAME', 'YEAR']\n",
    "# pace_drop_cols = pace.columns - pace_keep_cols\n",
    "# pace.drop(pace_drop_cols, axis=1, inplace=True)\n",
    "# pace.rename(columns={'GAME_ID':'GAME_ID_PACE',\n",
    "#                      'PLAYER_NAME': 'PLAYER_NAME_PACE',\n",
    "#                      'PLAYER_ID': 'PLAYER_ID_PACE',\n",
    "#                      'YEAR': 'YEAR_PACE'},\n",
    "#             inplace=True)\n",
    "\n",
    "# tracking = pickles_to_pandas('tracking', add_year=True)\n",
    "# tracking_keep_cols = ['GAME_ID', 'SPD', 'DIST', 'PLAYER_ID', 'PLAYER_NAME', 'YEAR']\n",
    "# tracking_drop_cols = tracking.columns - tracking_keep_cols\n",
    "# tracking.drop(tracking_drop_cols, axis=1, inplace=True)\n",
    "# tracking.rename(columns={'GAME_ID':'GAME_ID_TRACKING',\n",
    "#                      'PLAYER_NAME': 'PLAYER_NAME_TRACKING',\n",
    "#                      'PLAYER_ID': 'PLAYER_ID_TRACKING',\n",
    "#                      'YEAR': 'YEAR_TRACKING'},\n",
    "#             inplace=True)"
   ]
  },
  {
   "cell_type": "code",
   "execution_count": 13,
   "metadata": {
    "collapsed": false,
    "scrolled": true
   },
   "outputs": [],
   "source": [
    "gamelog = gamelog.merge(pace, left_on=['GAME_ID', 'PLAYER_ID'],\n",
    "                             right_on=['GAME_ID_PACE', 'PLAYER_ID_PACE'])\n",
    "gamelog = gamelog.merge(tracking, left_on=['GAME_ID', 'PLAYER_ID'],\n",
    "                                right_on=['GAME_ID_TRACKING', 'PLAYER_ID_TRACKING'])"
   ]
  },
  {
   "cell_type": "code",
   "execution_count": 14,
   "metadata": {
    "collapsed": true
   },
   "outputs": [],
   "source": [
    "city_abbrv = {'ATL': 'Atlanta',\n",
    "              'BOS': 'Boston',\n",
    "              'CLE': 'Cleveland',\n",
    "              'GSW': 'Oakland',\n",
    "              'OKC': 'Oklahoma+City',\n",
    "              'SAS': 'San+Antonio',\n",
    "              'POR': 'Portland',\n",
    "              'MIA': 'Miami',\n",
    "              'IND': 'Indiana',\n",
    "              'TOR': 'Toronoto',\n",
    "              'CHI': 'Chicago',\n",
    "              'BKN': 'Brooklyn',\n",
    "              'CHA': 'Charlotte',\n",
    "              'NYK': 'New+York',\n",
    "              'DET': 'Detroit',\n",
    "              'PHI': 'Philadelphia',\n",
    "              'ORL': 'Orlando',\n",
    "              'MIL': 'Milwaukee',\n",
    "              'WAS': 'Washington+DC',\n",
    "              'DEN': 'Denver',\n",
    "              'DAL': 'Dallas',\n",
    "              'MIN': 'Minnesota',\n",
    "              'LAC': 'Los+Angeles',\n",
    "              'HOU': 'Houston',\n",
    "              'LAL': 'Los+Angeles',\n",
    "              'MEM': 'Memphis',\n",
    "              'PHX': 'Phoenix',\n",
    "              'NOP': 'New+Orleans',\n",
    "              'UTA': 'Utah',\n",
    "              'SAC': 'Sacramento'}"
   ]
  },
  {
   "cell_type": "code",
   "execution_count": 16,
   "metadata": {
    "collapsed": false
   },
   "outputs": [],
   "source": [
    "gamelog['GAME_LOCATION'] = gamelog['MATCHUP'].apply(lambda x: game_loc(x))"
   ]
  },
  {
   "cell_type": "code",
   "execution_count": 49,
   "metadata": {
    "collapsed": false
   },
   "outputs": [],
   "source": [
    "# creating dataframe of everyday in a season\n",
    "season_dt_range = start_end_season('gamelog')\n",
    "\n",
    "seasons = pd.DataFrame(columns=['Date'])\n",
    "for range in season_dt_range:\n",
    "    tmp = pd.DataFrame(pd.date_range(range[0], range[1], freq='D'), columns=['Date'])\n",
    "    seasons = seasons.append(tmp)\n",
    "\n",
    "seasons = seasons[seasons['Date'] > start_data]\n",
    "seasons.sort_values('Date', inplace=True)\n",
    "seasons.rename(columns={'Date': 'Season Dates'}, inplace=True)"
   ]
  },
  {
   "cell_type": "code",
   "execution_count": 18,
   "metadata": {
    "collapsed": false,
    "scrolled": true
   },
   "outputs": [],
   "source": [
    "gamelog_injury = gamelog.merge(injury, left_on=['GAME_DATE', 'PLAYER_NAME'],\n",
    "                                       right_on=['Date_Injury', 'Player_Injury'], how='outer')"
   ]
  },
  {
   "cell_type": "code",
   "execution_count": 19,
   "metadata": {
    "collapsed": true
   },
   "outputs": [],
   "source": [
    "# dropping conflicted rows when the injury data indicated a player sat out when he, in fact, did play\n",
    "conflict_idx = gamelog_injury.index[gamelog_injury[(gamelog_injury['GAME_DATE'].notnull()) &\n",
    "                                                   (gamelog_injury['Date_Injury'].notnull())].index]"
   ]
  },
  {
   "cell_type": "code",
   "execution_count": 20,
   "metadata": {
    "collapsed": true
   },
   "outputs": [],
   "source": [
    "gamelog_injury.drop(conflict_idx, inplace=True)"
   ]
  },
  {
   "cell_type": "code",
   "execution_count": 21,
   "metadata": {
    "collapsed": false
   },
   "outputs": [],
   "source": [
    "# combining the non-nan GAME_DATE and non-nan Date values into one column\n",
    "GAME_DATE = gamelog_injury['GAME_DATE'].dropna()\n",
    "date = gamelog_injury['Date_Injury'].dropna()\n",
    "combined_date = pd.concat([GAME_DATE, date])\n",
    "\n",
    "# combining the non-nan PLAYER_NAME and non-nan Player values into one column\n",
    "PLAYER_NAME = gamelog_injury['PLAYER_NAME'].dropna()\n",
    "Player = gamelog_injury['Player_Injury'].dropna()\n",
    "combined_player = pd.concat([PLAYER_NAME, Player])\n",
    "\n",
    "gamelog_injury['DATE'] = combined_date\n",
    "gamelog_injury['PLAYER'] = combined_player"
   ]
  },
  {
   "cell_type": "code",
   "execution_count": 22,
   "metadata": {
    "collapsed": false,
    "scrolled": false
   },
   "outputs": [],
   "source": [
    "gamelog_injury.sort_values('DATE', inplace=True)"
   ]
  },
  {
   "cell_type": "code",
   "execution_count": 23,
   "metadata": {
    "collapsed": true
   },
   "outputs": [],
   "source": [
    "with open('data/city_distances.pickle', 'r') as f:\n",
    "    city_distances = pickle.load(f)"
   ]
  },
  {
   "cell_type": "code",
   "execution_count": 26,
   "metadata": {
    "collapsed": false,
    "scrolled": true
   },
   "outputs": [
    {
     "name": "stderr",
     "output_type": "stream",
     "text": [
      "/home/peter/anaconda2/lib/python2.7/site-packages/ipykernel/__main__.py:8: SettingWithCopyWarning: \n",
      "A value is trying to be set on a copy of a slice from a DataFrame.\n",
      "Try using .loc[row_indexer,col_indexer] = value instead\n",
      "\n",
      "See the caveats in the documentation: http://pandas.pydata.org/pandas-docs/stable/indexing.html#indexing-view-versus-copy\n",
      "/home/peter/anaconda2/lib/python2.7/site-packages/ipykernel/__main__.py:9: SettingWithCopyWarning: \n",
      "A value is trying to be set on a copy of a slice from a DataFrame.\n",
      "Try using .loc[row_indexer,col_indexer] = value instead\n",
      "\n",
      "See the caveats in the documentation: http://pandas.pydata.org/pandas-docs/stable/indexing.html#indexing-view-versus-copy\n",
      "/home/peter/anaconda2/lib/python2.7/site-packages/pandas/core/indexing.py:132: SettingWithCopyWarning: \n",
      "A value is trying to be set on a copy of a slice from a DataFrame\n",
      "\n",
      "See the caveats in the documentation: http://pandas.pydata.org/pandas-docs/stable/indexing.html#indexing-view-versus-copy\n",
      "  self._setitem_with_indexer(indexer, value)\n",
      "/home/peter/anaconda2/lib/python2.7/site-packages/ipykernel/__main__.py:19: SettingWithCopyWarning: \n",
      "A value is trying to be set on a copy of a slice from a DataFrame\n",
      "\n",
      "See the caveats in the documentation: http://pandas.pydata.org/pandas-docs/stable/indexing.html#indexing-view-versus-copy\n",
      "/home/peter/anaconda2/lib/python2.7/site-packages/ipykernel/__main__.py:21: SettingWithCopyWarning: \n",
      "A value is trying to be set on a copy of a slice from a DataFrame\n",
      "\n",
      "See the caveats in the documentation: http://pandas.pydata.org/pandas-docs/stable/indexing.html#indexing-view-versus-copy\n",
      "/home/peter/anaconda2/lib/python2.7/site-packages/ipykernel/__main__.py:12: SettingWithCopyWarning: \n",
      "A value is trying to be set on a copy of a slice from a DataFrame\n",
      "\n",
      "See the caveats in the documentation: http://pandas.pydata.org/pandas-docs/stable/indexing.html#indexing-view-versus-copy\n"
     ]
    }
   ],
   "source": [
    "players = gamelog_injury['PLAYER'].unique().tolist()\n",
    "\n",
    "# creating an injury flag column\n",
    "# a player is marked as injured if an injury occurred in any of the next 3 games\n",
    "merged = pd.DataFrame()\n",
    "for player in players:\n",
    "    tmp = gamelog_injury[gamelog_injury['PLAYER'] == player]\n",
    "    tmp['INJURED'] = 0\n",
    "    tmp['MILES_TRAVELED'] = 0\n",
    "    for i in xrange(len(tmp) - 1):\n",
    "        if tmp['Notes'].iloc[i+1: i+4].notnull().sum() > 0:\n",
    "            tmp['INJURED'].iloc[i] = 1\n",
    "    \n",
    "        city1 = tmp['GAME_LOCATION'].iloc[i]\n",
    "        city2 = tmp['GAME_LOCATION'].iloc[i+1]\n",
    "        if city1 == city2:\n",
    "            pass\n",
    "        if (city1, city2) in set(city_distances.keys()):\n",
    "            tmp['MILES_TRAVELED'].iloc[i+1] = city_distances[(city1, city2)]\n",
    "        elif (city2, city1) in set(city_distances.keys()):\n",
    "            tmp['MILES_TRAVELED'].iloc[i+1] = city_distances[(city2, city1)]\n",
    "    merged = merged.append(tmp)"
   ]
  },
  {
   "cell_type": "code",
   "execution_count": 27,
   "metadata": {
    "collapsed": false,
    "scrolled": false
   },
   "outputs": [
    {
     "name": "stderr",
     "output_type": "stream",
     "text": [
      "/home/peter/anaconda2/lib/python2.7/site-packages/ipykernel/__main__.py:4: FutureWarning: using '-' to provide set differences with Indexes is deprecated, use .difference()\n"
     ]
    }
   ],
   "source": [
    "# zero mins played indicate the player played less than one minute.\n",
    "# Treating those players as not playing\n",
    "exclude_cols = ['PLAYER', 'DATE', 'INJURED', 'PLAYER_ID', 'NOTES']\n",
    "merged.ix[merged['MIN'] <= 1.0, merged.columns - exclude_cols] = np.nan"
   ]
  },
  {
   "cell_type": "code",
   "execution_count": 28,
   "metadata": {
    "collapsed": true
   },
   "outputs": [],
   "source": [
    "# counting the number of games played in the aggregation window\n",
    "merged['GAMES_PLAYED'] = merged['MIN'].notnull() * 1"
   ]
  },
  {
   "cell_type": "code",
   "execution_count": 143,
   "metadata": {
    "collapsed": false
   },
   "outputs": [],
   "source": [
    "merged.reset_index(inplace=True, drop=True)"
   ]
  },
  {
   "cell_type": "code",
   "execution_count": 180,
   "metadata": {
    "collapsed": false
   },
   "outputs": [
    {
     "data": {
      "text/html": [
       "<div>\n",
       "<table border=\"1\" class=\"dataframe\">\n",
       "  <thead>\n",
       "    <tr style=\"text-align: right;\">\n",
       "      <th></th>\n",
       "      <th>PLAYER_ID</th>\n",
       "      <th>PLAYER_NAME</th>\n",
       "      <th>GAME_ID</th>\n",
       "      <th>GAME_DATE</th>\n",
       "      <th>MATCHUP</th>\n",
       "      <th>MIN</th>\n",
       "      <th>FGM</th>\n",
       "      <th>FGA</th>\n",
       "      <th>FG3M</th>\n",
       "      <th>FG3A</th>\n",
       "      <th>...</th>\n",
       "      <th>YEAR_y</th>\n",
       "      <th>MONTH_y</th>\n",
       "      <th>DAY_y</th>\n",
       "      <th>DATE</th>\n",
       "      <th>PLAYER</th>\n",
       "      <th>INJURED</th>\n",
       "      <th>MILES_TRAVELED</th>\n",
       "      <th>GAMES_PLAYED</th>\n",
       "      <th>BACK_TO_BACKS</th>\n",
       "      <th>BACK_TO_BACK</th>\n",
       "    </tr>\n",
       "  </thead>\n",
       "  <tbody>\n",
       "    <tr>\n",
       "      <th>0</th>\n",
       "      <td>201954.0</td>\n",
       "      <td>Darren Collison</td>\n",
       "      <td>0021300003</td>\n",
       "      <td>2013-10-29</td>\n",
       "      <td>LAC @ LAL</td>\n",
       "      <td>12.0</td>\n",
       "      <td>4.0</td>\n",
       "      <td>5.0</td>\n",
       "      <td>1.0</td>\n",
       "      <td>1.0</td>\n",
       "      <td>...</td>\n",
       "      <td>NaN</td>\n",
       "      <td>NaN</td>\n",
       "      <td>NaN</td>\n",
       "      <td>2013-10-29</td>\n",
       "      <td>Darren Collison</td>\n",
       "      <td>0</td>\n",
       "      <td>0.0</td>\n",
       "      <td>1</td>\n",
       "      <td>0</td>\n",
       "      <td>0</td>\n",
       "    </tr>\n",
       "    <tr>\n",
       "      <th>1</th>\n",
       "      <td>201954.0</td>\n",
       "      <td>Darren Collison</td>\n",
       "      <td>0021300019</td>\n",
       "      <td>2013-10-31</td>\n",
       "      <td>LAC vs. GSW</td>\n",
       "      <td>11.0</td>\n",
       "      <td>0.0</td>\n",
       "      <td>3.0</td>\n",
       "      <td>0.0</td>\n",
       "      <td>0.0</td>\n",
       "      <td>...</td>\n",
       "      <td>NaN</td>\n",
       "      <td>NaN</td>\n",
       "      <td>NaN</td>\n",
       "      <td>2013-10-31</td>\n",
       "      <td>Darren Collison</td>\n",
       "      <td>0</td>\n",
       "      <td>1.0</td>\n",
       "      <td>1</td>\n",
       "      <td>0</td>\n",
       "      <td>0</td>\n",
       "    </tr>\n",
       "    <tr>\n",
       "      <th>2</th>\n",
       "      <td>201954.0</td>\n",
       "      <td>Darren Collison</td>\n",
       "      <td>0021300031</td>\n",
       "      <td>2013-11-01</td>\n",
       "      <td>LAC @ SAC</td>\n",
       "      <td>13.0</td>\n",
       "      <td>1.0</td>\n",
       "      <td>4.0</td>\n",
       "      <td>0.0</td>\n",
       "      <td>0.0</td>\n",
       "      <td>...</td>\n",
       "      <td>NaN</td>\n",
       "      <td>NaN</td>\n",
       "      <td>NaN</td>\n",
       "      <td>2013-11-01</td>\n",
       "      <td>Darren Collison</td>\n",
       "      <td>0</td>\n",
       "      <td>384.0</td>\n",
       "      <td>1</td>\n",
       "      <td>1</td>\n",
       "      <td>1</td>\n",
       "    </tr>\n",
       "    <tr>\n",
       "      <th>3</th>\n",
       "      <td>201954.0</td>\n",
       "      <td>Darren Collison</td>\n",
       "      <td>0021300050</td>\n",
       "      <td>2013-11-04</td>\n",
       "      <td>LAC vs. HOU</td>\n",
       "      <td>15.0</td>\n",
       "      <td>2.0</td>\n",
       "      <td>10.0</td>\n",
       "      <td>1.0</td>\n",
       "      <td>5.0</td>\n",
       "      <td>...</td>\n",
       "      <td>NaN</td>\n",
       "      <td>NaN</td>\n",
       "      <td>NaN</td>\n",
       "      <td>2013-11-04</td>\n",
       "      <td>Darren Collison</td>\n",
       "      <td>0</td>\n",
       "      <td>384.0</td>\n",
       "      <td>1</td>\n",
       "      <td>0</td>\n",
       "      <td>0</td>\n",
       "    </tr>\n",
       "    <tr>\n",
       "      <th>4</th>\n",
       "      <td>201954.0</td>\n",
       "      <td>Darren Collison</td>\n",
       "      <td>0021300062</td>\n",
       "      <td>2013-11-06</td>\n",
       "      <td>LAC @ ORL</td>\n",
       "      <td>14.0</td>\n",
       "      <td>0.0</td>\n",
       "      <td>3.0</td>\n",
       "      <td>0.0</td>\n",
       "      <td>2.0</td>\n",
       "      <td>...</td>\n",
       "      <td>NaN</td>\n",
       "      <td>NaN</td>\n",
       "      <td>NaN</td>\n",
       "      <td>2013-11-06</td>\n",
       "      <td>Darren Collison</td>\n",
       "      <td>0</td>\n",
       "      <td>2509.0</td>\n",
       "      <td>1</td>\n",
       "      <td>0</td>\n",
       "      <td>0</td>\n",
       "    </tr>\n",
       "  </tbody>\n",
       "</table>\n",
       "<p>5 rows × 50 columns</p>\n",
       "</div>"
      ],
      "text/plain": [
       "   PLAYER_ID      PLAYER_NAME     GAME_ID  GAME_DATE      MATCHUP   MIN  FGM  \\\n",
       "0   201954.0  Darren Collison  0021300003 2013-10-29    LAC @ LAL  12.0  4.0   \n",
       "1   201954.0  Darren Collison  0021300019 2013-10-31  LAC vs. GSW  11.0  0.0   \n",
       "2   201954.0  Darren Collison  0021300031 2013-11-01    LAC @ SAC  13.0  1.0   \n",
       "3   201954.0  Darren Collison  0021300050 2013-11-04  LAC vs. HOU  15.0  2.0   \n",
       "4   201954.0  Darren Collison  0021300062 2013-11-06    LAC @ ORL  14.0  0.0   \n",
       "\n",
       "    FGA  FG3M  FG3A      ...       YEAR_y  MONTH_y  DAY_y       DATE  \\\n",
       "0   5.0   1.0   1.0      ...          NaN      NaN    NaN 2013-10-29   \n",
       "1   3.0   0.0   0.0      ...          NaN      NaN    NaN 2013-10-31   \n",
       "2   4.0   0.0   0.0      ...          NaN      NaN    NaN 2013-11-01   \n",
       "3  10.0   1.0   5.0      ...          NaN      NaN    NaN 2013-11-04   \n",
       "4   3.0   0.0   2.0      ...          NaN      NaN    NaN 2013-11-06   \n",
       "\n",
       "            PLAYER  INJURED  MILES_TRAVELED  GAMES_PLAYED  BACK_TO_BACKS  \\\n",
       "0  Darren Collison        0             0.0             1              0   \n",
       "1  Darren Collison        0             1.0             1              0   \n",
       "2  Darren Collison        0           384.0             1              1   \n",
       "3  Darren Collison        0           384.0             1              0   \n",
       "4  Darren Collison        0          2509.0             1              0   \n",
       "\n",
       "   BACK_TO_BACK  \n",
       "0             0  \n",
       "1             0  \n",
       "2             1  \n",
       "3             0  \n",
       "4             0  \n",
       "\n",
       "[5 rows x 50 columns]"
      ]
     },
     "execution_count": 180,
     "metadata": {},
     "output_type": "execute_result"
    }
   ],
   "source": [
    "merged.head()"
   ]
  },
  {
   "cell_type": "code",
   "execution_count": 182,
   "metadata": {
    "collapsed": false
   },
   "outputs": [],
   "source": [
    "merged[\"BACK_TO_BACKS\"] = merged['DATE'].diff()\n",
    "merged['BACK_TO_BACKS'] = merged['BACK_TO_BACKS'].apply(lambda x: 1 if x == pd.to_timedelta('1 days') else 0)"
   ]
  },
  {
   "cell_type": "code",
   "execution_count": 29,
   "metadata": {
    "collapsed": false
   },
   "outputs": [],
   "source": [
    "# Create a column to count back to back games\n",
    "merged[\"BACK_TO_BACKS\"] = 0\n",
    "for i in xrange(len(merged)-1):\n",
    "    if merged['DATE'].iloc[i] + pd.DateOffset(days=1) == merged['DATE'].iloc[i+1]:\n",
    "        merged[\"BACK_TO_BACKS\"].iloc[i+1] = 1"
   ]
  },
  {
   "cell_type": "code",
   "execution_count": 51,
   "metadata": {
    "collapsed": false
   },
   "outputs": [],
   "source": [
    "# function that aggregates the stats within a window of specified days\n",
    "def agg_stats(df, window=14):\n",
    "    columns = df.columns.tolist()\n",
    "    cat_dict = defaultdict(list)\n",
    "    for i in xrange(0, len(df)):\n",
    "        for col in columns:\n",
    "            #create a dictionary to store the stats for each category\n",
    "            cat_dict[col].append(np.nanmean(df[col].iloc[i-window: i]))\n",
    "        # create a new column that records the number of games played within the window\n",
    "        cat_dict['GAMES_PLAYED_IN_WINDOW'].append(np.nansum(df['GAMES_PLAYED'].iloc[i-window: i]))\n",
    "        cat_dict['B2B_PLAYED_IN_WINDOW'].append(np.nansum(df[\"BACK_TO_BACKS\"].iloc[i-window: i]))\n",
    "        cat_dict['TOTAL_MILES_TRAVELED'].append(np.nansum(df[\"MILES_TRAVELED\"].iloc[i-window: i]))\n",
    "    return pd.DataFrame(cat_dict)"
   ]
  },
  {
   "cell_type": "code",
   "execution_count": 87,
   "metadata": {
    "collapsed": false,
    "scrolled": true
   },
   "outputs": [],
   "source": [
    "rolling_window = pd.DataFrame()\n",
    "feat_mat = pd.DataFrame()\n",
    "j = 0\n",
    "for player in players:\n",
    "#     print player, j/float(len(players))\n",
    "    player_df = merged[merged['PLAYER'] == player]\n",
    "    # maps a player's gamelog to all of the calender dates in a regular season\n",
    "    player_season = seasons.merge(player_df, left_on='Season Dates', right_on='DATE', how='left')\n",
    "    # remove the columns that will not be aggregated\n",
    "    cols_split = player_season[['Season Dates', 'PLAYER', 'INJURED', 'Notes']]\n",
    "    # dropping columns that cannot be aggregated\n",
    "    drop_player_season = ['PLAYER_NAME', 'GAME_DATE', 'YEAR_x', 'YEAR_y', 'INJURED',\n",
    "                          'MONTH_x', 'MONTH_y', 'DAY_x', 'Date_Injury', 'Player_Injury', 'Notes',\n",
    "                          'DATE', 'DAY_y', 'PLAYER', 'PLAYER_NAME_PACE', 'Season Dates',\n",
    "                          'PLAYER_NAME_TRACKING', 'GAME_ID', 'YEAR_TRACKING', 'YEAR_PACE',\n",
    "                          'GAME_ID_TRACKING', 'GAME_ID_PACE', 'MATCHUP', 'GAME_LOCATION']\n",
    "    player_season.drop(drop_player_season, axis=1, inplace=True)\n",
    "    rolling_window = agg_stats(player_season, window=21)\n",
    "    # add the aggregated stats and the earlier removed columns to the feature matrix\n",
    "    feat_mat = feat_mat.append(pd.concat([rolling_window, cols_split], axis=1))\n",
    "    j += 1"
   ]
  },
  {
   "cell_type": "code",
   "execution_count": 88,
   "metadata": {
    "collapsed": true
   },
   "outputs": [],
   "source": [
    "feat_mat.drop('Notes', axis=1, inplace=True)"
   ]
  },
  {
   "cell_type": "code",
   "execution_count": 89,
   "metadata": {
    "collapsed": false,
    "scrolled": true
   },
   "outputs": [],
   "source": [
    "# drop all nan's from the feature matrix\n",
    "# the nan's represent games in which the player did not play in\n",
    "feat_mat.dropna(inplace=True)"
   ]
  },
  {
   "cell_type": "code",
   "execution_count": 90,
   "metadata": {
    "collapsed": false,
    "scrolled": true
   },
   "outputs": [],
   "source": [
    "# convert the weights in the height/weight dataframe to floats\n",
    "hw_df['PLAYER_WEIGHT'] = hw_df['PLAYER_WEIGHT'].apply(lambda x: float(x))"
   ]
  },
  {
   "cell_type": "code",
   "execution_count": 91,
   "metadata": {
    "collapsed": false
   },
   "outputs": [],
   "source": [
    "# defines the start of the season for each row\n",
    "def define_season(x):    \n",
    "    for season in season_dt_range:\n",
    "        if (x >= season[0]) & (x <= season[1]):\n",
    "            return season[0]\n",
    "\n",
    "feat_mat['START_SEASON'] = feat_mat['Season Dates'].apply(define_season)"
   ]
  },
  {
   "cell_type": "code",
   "execution_count": 92,
   "metadata": {
    "collapsed": false
   },
   "outputs": [],
   "source": [
    "# custom apply function to match stats from other dataframes to the feature matrix\n",
    "# appends the height, weight, and age based on the player and the year\n",
    "def add_bi_comp_feat(df, player, start_season, feat):\n",
    "    if df[(df['PLAYER_NAME'] == player) &\n",
    "              (df['YEAR'] == start_season.year)][feat].empty:\n",
    "        return None\n",
    "    return df[(df['PLAYER_NAME'] == player) &\n",
    "              (df['YEAR'] == start_season.year)][feat].values[0]\n",
    "\n",
    "feat_mat['HEIGHT'] = 0\n",
    "feat_mat['HEIGHT'] = feat_mat.apply(lambda x: add_bi_comp_feat(hw_df,\n",
    "                                                               x['PLAYER'],\n",
    "                                                               x['START_SEASON'],\n",
    "                                                               'PLAYER_HEIGHT_INCHES'),\n",
    "                                   axis=1)\n",
    "\n",
    "feat_mat['WEIGHT'] = 0\n",
    "feat_mat['WEIGHT'] = feat_mat.apply(lambda x: add_bi_comp_feat(hw_df,\n",
    "                                                               x['PLAYER'],\n",
    "                                                               x['START_SEASON'],\n",
    "                                                               'PLAYER_WEIGHT'),\n",
    "                                    axis=1)\n",
    "\n",
    "feat_mat['AGE'] = 0\n",
    "feat_mat['AGE'] = feat_mat.apply(lambda x: add_bi_comp_feat(ss_df,\n",
    "                                                            x['PLAYER'],\n",
    "                                                            x['START_SEASON'],\n",
    "                                                            'AGE'),\n",
    "                                 axis=1)\n",
    "\n",
    "feat_mat['AGE'] = 0\n",
    "feat_mat['AGE'] = feat_mat.apply(lambda x: add_bi_comp_feat(ss_df,\n",
    "                                                            x['PLAYER'],\n",
    "                                                            x['START_SEASON'],\n",
    "                                                            'AGE'),\n",
    "                                 axis=1)"
   ]
  },
  {
   "cell_type": "code",
   "execution_count": 107,
   "metadata": {
    "collapsed": false
   },
   "outputs": [],
   "source": [
    "with open('feat_mat.pickle', 'r') as f:\n",
    "    feat_mat = pickle.load(f)"
   ]
  },
  {
   "cell_type": "code",
   "execution_count": 108,
   "metadata": {
    "collapsed": true
   },
   "outputs": [],
   "source": [
    "with open('merged.pickle', 'r') as f:\n",
    "    merged = pickle.load(f)"
   ]
  },
  {
   "cell_type": "markdown",
   "metadata": {},
   "source": [
    "# FITTING MODELS"
   ]
  },
  {
   "cell_type": "code",
   "execution_count": 128,
   "metadata": {
    "collapsed": false
   },
   "outputs": [],
   "source": [
    "Xy = feat_mat.drop(['PLAYER', 'PLAYER_ID', 'FG3M', 'Season Dates',\n",
    "                    'FGM', 'FTM', 'BLK', 'PLUS_MINUS', 'START_SEASON',\n",
    "                    'PTS', 'REB', 'GAMES_PLAYED', 'PLAYER_ID_PACE',\n",
    "                    'PLAYER_ID_TRACKING', 'BACK_TO_BACKS', 'PACE', 'MIN',\n",
    "                    'B2B_PLAYED_IN_WINDOW',\n",
    "                    'HEIGHT', 'FGA', 'MILES_TRAVELED'], axis=1)\n",
    "Xy.dropna(inplace=True)\n",
    "Xy.reset_index(inplace=True, drop=True)\n",
    "Xy = Xy[Xy['SPD'] != 0.0]\n",
    "Xy.rename(columns={'TOTAL_MILES_TRAVELED': 'MILES TRAVELED',\n",
    "                   'SPD': 'SPEED',\n",
    "                   'DIST': 'DISTANCE',\n",
    "                   'AST': 'ASSISTS',\n",
    "                   'DREB': 'DEF. REBOUNDS',\n",
    "                   'OREB': 'OFF. REBOUNDS',\n",
    "                   'PF': 'FOULS',\n",
    "                   'STL': 'STEALS',\n",
    "                   'TOV': 'TURNOVERS',\n",
    "                   'FTA': 'F.T. ATTEMPTED',\n",
    "                   'FG3A': '3-PTS ATTEMPTED',\n",
    "                   'GAMES_PLAYED_IN_WINDOW': 'GAMES PLAYED'},\n",
    "          inplace=True)"
   ]
  },
  {
   "cell_type": "code",
   "execution_count": 129,
   "metadata": {
    "collapsed": false
   },
   "outputs": [],
   "source": [
    "y = Xy['INJURED']\n",
    "X = Xy.drop('INJURED', axis=1)"
   ]
  },
  {
   "cell_type": "code",
   "execution_count": 130,
   "metadata": {
    "collapsed": false
   },
   "outputs": [],
   "source": [
    "X_train, X_holdout, y_train, y_holdout = train_test_split(X, y, test_size=.3)\n",
    "X_subtrain, X_subtest, y_subtrain, y_subtest = train_test_split(X_train, y_train, test_size=.3)"
   ]
  },
  {
   "cell_type": "code",
   "execution_count": 131,
   "metadata": {
    "collapsed": false,
    "scrolled": true
   },
   "outputs": [],
   "source": [
    "logreg = LogisticRegressionCV(cv=3).fit(X_subtrain, y_subtrain)\n",
    "logreg_prob = logreg.predict_proba(X_holdout)[:, 1]\n",
    "logreg_pred = logreg.predict(X_holdout)"
   ]
  },
  {
   "cell_type": "code",
   "execution_count": 132,
   "metadata": {
    "collapsed": true
   },
   "outputs": [],
   "source": [
    "rfc = RandomForestClassifier(n_estimators=250,\n",
    "                             class_weight='balanced', \n",
    "                             max_features='log2',\n",
    "                             n_jobs=-1,\n",
    "                             oob_score=True).fit(X_subtrain, y_subtrain)\n",
    "rfc_prob = rfc.predict_proba(X_holdout)[:, 1]\n",
    "rfc_pred = rfc.predict(X_holdout)"
   ]
  },
  {
   "cell_type": "code",
   "execution_count": 114,
   "metadata": {
    "collapsed": false
   },
   "outputs": [],
   "source": [
    "# rfc_param_grid = {'n_estimators': [50, 100, 150, 200, 250],\n",
    "#               'min_samples_leaf': [1, 10, 20, 50],\n",
    "#               'max_features': ['sqrt', 'log2']}\n",
    "# rfc_gs = GridSearchCV(rfc, param_grid=rfc_param_grid, scoring='roc_auc', cv=5, n_jobs=-1).fit(X_subtrain, y_subtrain)\n",
    "# \n",
    "# rfc_gs.best_params_"
   ]
  },
  {
   "cell_type": "code",
   "execution_count": 133,
   "metadata": {
    "collapsed": true
   },
   "outputs": [],
   "source": [
    "gbc = GradientBoostingClassifier(learning_rate=.2,\n",
    "                                 n_estimators=250,\n",
    "                                 max_depth=10,\n",
    "                                 max_features='sqrt').fit(X_subtrain, y_subtrain)\n",
    "gbc_prob = gbc.predict_proba(X_holdout)[:, 1]\n",
    "gbc_pred = gbc.predict(X_holdout)"
   ]
  },
  {
   "cell_type": "code",
   "execution_count": 116,
   "metadata": {
    "collapsed": true
   },
   "outputs": [],
   "source": [
    "# gbc_param_grid = {'learning_rate': [.05, .1, .2, .5],\n",
    "#                   'n_estimators': [50, 100, 150, 200],\n",
    "#                   'max_depth': [1, 3, 6, 10],\n",
    "#                   'max_features': ['auto', 'sqrt']}\n",
    "# gbc_gs = GridSearchCV(gbc, param_grid=gbc_param_grid, scoring='roc_auc', cv=5, n_jobs=-1).fit(X_subtrain, y_subtrain)\n",
    "\n",
    "# gbc_gs.best_params_"
   ]
  },
  {
   "cell_type": "code",
   "execution_count": 134,
   "metadata": {
    "collapsed": false,
    "scrolled": false
   },
   "outputs": [],
   "source": [
    "def roc_pr(y_true, probs):\n",
    "    fpr, tpr, thres1 = roc_curve(y_true, probs)\n",
    "    random_prob = np.random.random(y_true.shape[0])\n",
    "    random_precision, random_recall, thres2 = precision_recall_curve(y_true, random_prob)\n",
    "    precision, recall, thres2 = precision_recall_curve(y_true, probs)\n",
    "    with plt.style.context('fivethirtyeight'):\n",
    "        fig1, ax1 = plt.subplots(figsize=(8, 8))\n",
    "        ax1.plot(fpr, tpr)\n",
    "        ax1.fill_between(fpr, 0, tpr, alpha=.2)\n",
    "        ax1.plot(np.linspace(0, 1), np.linspace(0, 1), alpha=.4, color='r')\n",
    "        ax1.fill_between(np.linspace(0, 1), 0, np.linspace(0, 1), alpha=.2)\n",
    "        ax1.set_title('ROC CURVE')\n",
    "        ax1.set_xlabel('FALSE POSITIVE RATE')\n",
    "        ax1.set_ylabel('TRUE POSITIVE RATE')\n",
    "        ax1.text(1.1, 1, 'ROC AUC: {:.3f}'.format(roc_auc_score(y_true, probs)))\n",
    "        fig1.savefig('images/rfc_roc_curve.png' ,bbox_inches='tight')\n",
    "\n",
    "        fig2, ax2 = plt.subplots(figsize=(8, 6))\n",
    "        ax2.plot(recall, precision)\n",
    "        ax2.fill_between(recall, 0, precision, alpha=.2)\n",
    "        ax2.plot(random_recall, random_precision, alpha=.4)\n",
    "        ax2.fill_between(random_recall, 0, random_precision, alpha=.2, color='r')\n",
    "        ax2.set_title('PRECISION-RECALL CURVE')\n",
    "        ax2.set_xlabel('RECALL')\n",
    "        ax2.set_ylabel('PRECISION')\n",
    "        ax2.text(1.1, 1, 'P-R AUC: {:.3f}'.format(auc(recall, precision)))\n",
    "        fig2.savefig('images/rfc_pr_curve.png', bbox_inches='tight')"
   ]
  },
  {
   "cell_type": "code",
   "execution_count": 135,
   "metadata": {
    "collapsed": false
   },
   "outputs": [
    {
     "data": {
      "image/png": "[encoded data removed]",
      "text/plain": [
       "<matplotlib.figure.Figure at 0x7f6609f7f250>"
      ]
     },
     "metadata": {},
     "output_type": "display_data"
    },
    {
     "data": {
      "image/png": "[encoded data removed]",
      "text/plain": [
       "<matplotlib.figure.Figure at 0x7f65c9c969d0>"
      ]
     },
     "metadata": {},
     "output_type": "display_data"
    }
   ],
   "source": [
    "roc_pr(y_holdout, rfc_prob)"
   ]
  },
  {
   "cell_type": "code",
   "execution_count": 138,
   "metadata": {
    "collapsed": false
   },
   "outputs": [
    {
     "data": {
      "image/png": "[encoded data removed]",
      "text/plain": [
       "<matplotlib.figure.Figure at 0x7f65caa0efd0>"
      ]
     },
     "metadata": {},
     "output_type": "display_data"
    }
   ],
   "source": [
    "#### features = X.columns\n",
    "importances = rfc.feature_importances_\n",
    "std = np.std([tree.feature_importances_ for tree in rfc.estimators_], axis=0)\n",
    "indices = np.argsort(importances)[::-1]\n",
    "\n",
    "# # Print the feature ranking\n",
    "# print(\"Feature ranking:\")\n",
    "\n",
    "# for f in xrange(X.shape[1]):\n",
    "#     print(\"%d. feature %d (%f)\" % (f + 1, indices[f], importances[indices[f]]))\n",
    "    \n",
    "with plt.style.context('fivethirtyeight'):\n",
    "    # Plot the feature importances of the forest\n",
    "    plt.figure(figsize=(14, 8))\n",
    "    plt.suptitle('FEATURE IMPORTANCES', fontsize=20, y=1.05)\n",
    "    plt.bar(np.arange(X.shape[1]), importances[indices],\n",
    "           color=\"r\", alpha=.8, yerr=std[indices], align=\"center\")\n",
    "    plt.xticks(np.arange(X.shape[1]), features[indices], rotation='vertical')\n",
    "    plt.tick_params(axis='both', which='major', labelsize=14)\n",
    "    plt.xlabel('FEATURES', fontsize=14)\n",
    "    plt.ylabel('IMPORTANCES', fontsize=14)\n",
    "    plt.xlim([-1, X.shape[1]])\n",
    "    plt.savefig('images/feature_importances.png',bbox_inches='tight')"
   ]
  },
  {
   "cell_type": "code",
   "execution_count": 125,
   "metadata": {
    "collapsed": false
   },
   "outputs": [
    {
     "data": {
      "image/png": "[encoded data removed]",
      "text/plain": [
       "<matplotlib.figure.Figure at 0x7f65c9f779d0>"
      ]
     },
     "metadata": {},
     "output_type": "display_data"
    }
   ],
   "source": [
    "#         plt.plot(random_recall, random_precision, alpha=.4)\n",
    "#         plt.fill_between(random_recall, 0, random_precision, alpha=.2, color='r')\n",
    "with plt.style.context('fivethirtyeight'):\n",
    "    plt.figure(figsize=(10, 8))\n",
    "\n",
    "    for probs in [rfc_prob, gbc_prob, logreg_prob]:    \n",
    "        fpr, tpr, thres1 = roc_curve(y_holdout, probs)\n",
    "        random_prob = np.random.random(y_holdout.shape[0])\n",
    "        random_precision, random_recall, thres2 = precision_recall_curve(y_holdout, random_prob)\n",
    "        precision, recall, thres2 = precision_recall_curve(y_holdout, probs)\n",
    "        plt.plot(recall, precision)\n",
    "        plt.fill_between(recall, 0, precision, alpha=.2)\n",
    "        plt.title('PRECISION-RECALL CURVE')\n",
    "        plt.xlabel('RECALL')\n",
    "        plt.ylabel('PRECISION')\n",
    "        plt.text(.67, .4, 'RANDOM FOREST')\n",
    "        plt.text(.1, .56, 'GRADIENT BOOSTING')\n",
    "        plt.text(.4, .08, 'LOGISTIC REGRESSION')\n",
    "    plt.savefig('images/combined_curve.png')"
   ]
  },
  {
   "cell_type": "code",
   "execution_count": null,
   "metadata": {
    "collapsed": true
   },
   "outputs": [],
   "source": []
  }
 ],
 "metadata": {
  "kernelspec": {
   "display_name": "Python 2",
   "language": "python",
   "name": "python2"
  },
  "language_info": {
   "codemirror_mode": {
    "name": "ipython",
    "version": 2
   },
   "file_extension": ".py",
   "mimetype": "text/x-python",
   "name": "python",
   "nbconvert_exporter": "python",
   "pygments_lexer": "ipython2",
   "version": "2.7.11"
  }
 },
 "nbformat": 4,
 "nbformat_minor": 0
}
