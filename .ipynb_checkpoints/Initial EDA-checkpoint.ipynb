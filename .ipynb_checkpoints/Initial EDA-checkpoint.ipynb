{
 "cells": [
  {
   "cell_type": "code",
   "execution_count": 1,
   "metadata": {
    "collapsed": false
   },
   "outputs": [],
   "source": [
    "import pandas as pd\n",
    "import os\n",
    "import json\n",
    "from datetime import datetime\n",
    "import numpy as np\n",
    "import matplotlib.pyplot as plt\n",
    "import seaborn as sns\n",
    "import re\n",
    "from sklearn.linear_model import LogisticRegressionCV\n",
    "from sklearn.ensemble import RandomForestClassifier, GradientBoostingClassifier\n",
    "from sklearn.cross_validation import train_test_split\n",
    "from sklearn.metrics import precision_score, recall_score, f1_score, auc\n",
    "from roc_curve import ROC_Curve\n",
    "from sklearn.svm import SVC\n",
    "import statsmodels.api as sm\n",
    "\n",
    "%matplotlib inline"
   ]
  },
  {
   "cell_type": "code",
   "execution_count": null,
   "metadata": {
    "collapsed": false
   },
   "outputs": [],
   "source": [
    "# gl_df['LOCATION'] = gl_2010_df['MATCHUP'].apply(lambda x: re.split(r'@|vs.', x)[1])"
   ]
  },
  {
   "cell_type": "code",
   "execution_count": 2,
   "metadata": {
    "collapsed": true
   },
   "outputs": [],
   "source": [
    "# function to extract information from the json files\n",
    "def json_extract(file):\n",
    "    with open('data/{}'.format(file)) as f:\n",
    "        data = json.load(f)\n",
    "        cols = data['resultSets'][0]['headers']\n",
    "        vals = data['resultSets'][0]['rowSet']\n",
    "    return cols, vals"
   ]
  },
  {
   "cell_type": "code",
   "execution_count": 3,
   "metadata": {
    "collapsed": true
   },
   "outputs": [],
   "source": [
    "# takes a list of df's and remove all rows with nan's\n",
    "def drop_na(df_lst):\n",
    "    map(lambda x: x.dropna(inplace=True), df_lst)"
   ]
  },
  {
   "cell_type": "code",
   "execution_count": 4,
   "metadata": {
    "collapsed": true
   },
   "outputs": [],
   "source": [
    "# function to create dataframe from the json information\n",
    "# keyword = gamelog, season_stats, or heights_weights\n",
    "def create_df(keyword, add_year=False):\n",
    "\n",
    "    fns = os.listdir('data/')\n",
    "\n",
    "    cols = json_extract('2013_{}.json'.format(keyword))[0]\n",
    "    if add_year:\n",
    "        cols += ['YEAR']\n",
    "    df = pd.DataFrame(columns=cols)\n",
    "\n",
    "    for fn in fns:\n",
    "        if keyword in fn:\n",
    "            temp_cols, temp_vals = json_extract(fn)\n",
    "            df_temp = pd.DataFrame(temp_vals, columns=temp_cols)\n",
    "            if add_year:\n",
    "                df_temp['YEAR'] = int(fn[0:4])\n",
    "            df = df.append(df_temp)\n",
    "            del df_temp, temp_cols, temp_vals\n",
    "    return df"
   ]
  },
  {
   "cell_type": "code",
   "execution_count": 5,
   "metadata": {
    "collapsed": false
   },
   "outputs": [],
   "source": [
    "# creating dataframes\n",
    "# gl = gamelogs, ss = season_stats, hw = heights_weights\n",
    "gl_df = create_df('gamelog')\n",
    "ss_df = create_df('season_stats', add_year=True)\n",
    "hw_df = create_df('heights_weights', add_year=True)\n",
    "\n",
    "gl_df = gl_df.reset_index(drop=True)\n",
    "ss_df = ss_df.reset_index(drop=True)\n",
    "hw_df = hw_df.reset_index(drop=True)\n",
    "\n",
    "# load the injury data\n",
    "injury_df = pd.read_csv('data/injuries.csv')\n",
    "injury_df.drop('Unnamed: 0', axis=1, inplace=True)\n",
    "\n",
    "# converting the Date column to datetime objects and\n",
    "# extracting the year, month, and day into their own columns\n",
    "injury_df['Date'] = pd.to_datetime(injury_df['Date'])\n",
    "date = injury_df['Date']\n",
    "injury_df['Year'] = date.apply(lambda x: x.year)\n",
    "injury_df['Month'] = date.apply(lambda x: x.month)\n",
    "injury_df['Day'] = date.apply(lambda x: x.day)\n",
    "\n",
    "# filter out all events not directly related to basketball\n",
    "injury_df = injury_df[(~injury_df['Notes'].str.contains('flu')) &\n",
    "                      (~injury_df['Notes'].str.contains('rest')) &\n",
    "                      (~injury_df['Notes'].str.contains('jail')) &\n",
    "                      (~injury_df['Notes'].str.contains('ill')) &\n",
    "                      (~injury_df['Notes'].str.contains('asthma')) &\n",
    "                      (~injury_df['Notes'].str.contains('virus')) &\n",
    "                      (~injury_df['Notes'].str.contains('return')) &\n",
    "                      (~injury_df['Notes'].str.contains('pneumonia')) &\n",
    "                      (~injury_df['Notes'].str.contains('coach')) &\n",
    "                      (~injury_df['Notes'].str.contains('sister')) &\n",
    "                      (~injury_df['Notes'].str.contains('Fined')) &\n",
    "                      (~injury_df['Notes'].str.contains('flu')) &\n",
    "                      (~injury_df['Notes'].str.contains('GM')) &\n",
    "                      (~injury_df['Notes'].str.contains('flu')) &\n",
    "                      (~injury_df['Notes'].str.contains('team')) &\n",
    "                      (~injury_df['Notes'].str.contains('canal')) &\n",
    "                      (~injury_df['Notes'].str.contains('food')) &\n",
    "                      (~injury_df['Notes'].str.contains('virus')) &\n",
    "                      (~injury_df['Notes'].str.contains('wife')) &\n",
    "                      (~injury_df['Notes'].str.contains('asthma')) &\n",
    "                      (~injury_df['Notes'].str.contains('chin')) &\n",
    "                      (~injury_df['Notes'].str.contains('headache')) &\n",
    "                      (~injury_df['Notes'].str.contains('anemia')) &\n",
    "                      (~injury_df['Notes'].str.contains('dizziness')) &\n",
    "                      (~injury_df['Notes'].str.contains('cold')) &\n",
    "                      (~injury_df['Notes'].str.contains('throat')) &\n",
    "                      (~injury_df['Notes'].str.contains('molar')) &\n",
    "                      (~injury_df['Notes'].str.contains('dizziness')) &\n",
    "                      (~injury_df['Notes'].str.contains('rash')) &\n",
    "                      (~injury_df['Notes'].str.contains('stomach ache')) &\n",
    "                      (~injury_df['Notes'].str.contains('bronchitis')) &\n",
    "                      (~injury_df['Notes'].str.contains('concussion'))]\n",
    "\n",
    "\n",
    "# drop all nan's rows\n",
    "drop_na([ss_df, hw_df])\n",
    "\n",
    "# heights/weights data has duplicate players for a specific year for players\n",
    "# who were traded.  Dropping duplicates\n",
    "hw_df = hw_df.drop_duplicates(['PLAYER_ID', 'YEAR'])\n",
    "\n",
    "# merging heights/weights and season stats on the player id and the year\n",
    "ss_hw_df = ss_df.merge(hw_df, left_on=['PLAYER_ID', 'YEAR'],\n",
    "                              right_on=['PLAYER_ID','YEAR'])"
   ]
  },
  {
   "cell_type": "code",
   "execution_count": 6,
   "metadata": {
    "collapsed": false
   },
   "outputs": [],
   "source": [
    "injury_subset = injury_df[(injury_df['Year'] == 2014)]"
   ]
  },
  {
   "cell_type": "code",
   "execution_count": 7,
   "metadata": {
    "collapsed": false
   },
   "outputs": [
    {
     "name": "stderr",
     "output_type": "stream",
     "text": [
      "/Users/datascientist/anaconda2/lib/python2.7/site-packages/ipykernel/__main__.py:2: SettingWithCopyWarning: \n",
      "A value is trying to be set on a copy of a slice from a DataFrame.\n",
      "Try using .loc[row_indexer,col_indexer] = value instead\n",
      "\n",
      "See the caveats in the documentation: http://pandas.pydata.org/pandas-docs/stable/indexing.html#indexing-view-versus-copy\n",
      "  from ipykernel import kernelapp as app\n",
      "/Users/datascientist/anaconda2/lib/python2.7/site-packages/ipykernel/__main__.py:5: SettingWithCopyWarning: \n",
      "A value is trying to be set on a copy of a slice from a DataFrame.\n",
      "Try using .loc[row_indexer,col_indexer] = value instead\n",
      "\n",
      "See the caveats in the documentation: http://pandas.pydata.org/pandas-docs/stable/indexing.html#indexing-view-versus-copy\n"
     ]
    }
   ],
   "source": [
    "# removing characters like (a) and (b)\n",
    "injury_subset['Player'] = injury_subset['Player'].apply(lambda x: ' '.join(x.split()[:2]) if re.match(r'.+\\(.+\\)', x) else x)\n",
    "\n",
    "# removing white spaces from player names\n",
    "injury_subset['Player'] = injury_subset['Player'].apply(lambda x: x.strip())"
   ]
  },
  {
   "cell_type": "code",
   "execution_count": 10,
   "metadata": {
    "collapsed": false
   },
   "outputs": [
    {
     "name": "stderr",
     "output_type": "stream",
     "text": [
      "/Users/datascientist/anaconda2/lib/python2.7/site-packages/pandas/util/decorators.py:89: SettingWithCopyWarning: \n",
      "A value is trying to be set on a copy of a slice from a DataFrame\n",
      "\n",
      "See the caveats in the documentation: http://pandas.pydata.org/pandas-docs/stable/indexing.html#indexing-view-versus-copy\n",
      "  return func(*args, **kwargs)\n"
     ]
    }
   ],
   "source": [
    "injury_subset.drop_duplicates('Player', inplace=True)"
   ]
  },
  {
   "cell_type": "code",
   "execution_count": 11,
   "metadata": {
    "collapsed": false
   },
   "outputs": [
    {
     "name": "stderr",
     "output_type": "stream",
     "text": [
      "/Users/datascientist/anaconda2/lib/python2.7/site-packages/ipykernel/__main__.py:3: SettingWithCopyWarning: \n",
      "A value is trying to be set on a copy of a slice from a DataFrame.\n",
      "Try using .loc[row_indexer,col_indexer] = value instead\n",
      "\n",
      "See the caveats in the documentation: http://pandas.pydata.org/pandas-docs/stable/indexing.html#indexing-view-versus-copy\n",
      "  app.launch_new_instance()\n"
     ]
    }
   ],
   "source": [
    "nba_players = ss_df['PLAYER_NAME'].unique()\n",
    "for player in nba_players:\n",
    "    injury_subset['Player'] = injury_subset['Player'].apply(lambda x: player if player in x else x)"
   ]
  },
  {
   "cell_type": "code",
   "execution_count": 12,
   "metadata": {
    "collapsed": false
   },
   "outputs": [
    {
     "name": "stderr",
     "output_type": "stream",
     "text": [
      "/Users/datascientist/anaconda2/lib/python2.7/site-packages/ipykernel/__main__.py:1: SettingWithCopyWarning: \n",
      "A value is trying to be set on a copy of a slice from a DataFrame\n",
      "\n",
      "See the caveats in the documentation: http://pandas.pydata.org/pandas-docs/stable/indexing.html#indexing-view-versus-copy\n",
      "  if __name__ == '__main__':\n",
      "/Users/datascientist/anaconda2/lib/python2.7/site-packages/IPython/core/interactiveshell.py:3066: SettingWithCopyWarning: \n",
      "A value is trying to be set on a copy of a slice from a DataFrame\n",
      "\n",
      "See the caveats in the documentation: http://pandas.pydata.org/pandas-docs/stable/indexing.html#indexing-view-versus-copy\n",
      "  exec(code_obj, self.user_global_ns, self.user_ns)\n"
     ]
    }
   ],
   "source": [
    "injury_subset['Player'][21205] = 'Tony Parker'"
   ]
  },
  {
   "cell_type": "code",
   "execution_count": 13,
   "metadata": {
    "collapsed": false
   },
   "outputs": [],
   "source": [
    "gl_df['GAME_DATE'] = pd.to_datetime(gl_df['GAME_DATE'])\n",
    "gl_date = gl_df['GAME_DATE']\n",
    "gl_df['YEAR'] = gl_date.apply(lambda x: x.year)\n",
    "gl_df['MONTH'] = gl_date.apply(lambda x: x.month)\n",
    "gl_df['DAY'] = gl_date.apply(lambda x: x.day)"
   ]
  },
  {
   "cell_type": "code",
   "execution_count": 14,
   "metadata": {
    "collapsed": false
   },
   "outputs": [],
   "source": [
    "gl_subset = gl_df[(gl_df['YEAR'] == 2014)]"
   ]
  },
  {
   "cell_type": "code",
   "execution_count": 15,
   "metadata": {
    "collapsed": false,
    "scrolled": true
   },
   "outputs": [
    {
     "name": "stderr",
     "output_type": "stream",
     "text": [
      "/Users/datascientist/anaconda2/lib/python2.7/site-packages/ipykernel/__main__.py:4: SettingWithCopyWarning: \n",
      "A value is trying to be set on a copy of a slice from a DataFrame\n",
      "\n",
      "See the caveats in the documentation: http://pandas.pydata.org/pandas-docs/stable/indexing.html#indexing-view-versus-copy\n"
     ]
    }
   ],
   "source": [
    "drop_gl_vars = ['SEASON_ID', 'TEAM_ABBREVIATION', 'TEAM_NAME', 'GAME_ID',\n",
    "                'MATCHUP', 'WL', 'FG_PCT', 'FG3_PCT', 'FT_PCT', 'PLUS_MINUS',\n",
    "                'VIDEO_AVAILABLE']\n",
    "gl_subset.drop(drop_gl_vars, axis=1, inplace=True)"
   ]
  },
  {
   "cell_type": "code",
   "execution_count": 16,
   "metadata": {
    "collapsed": true
   },
   "outputs": [],
   "source": [
    "gl_subset = gl_subset.groupby('PLAYER_NAME').mean()"
   ]
  },
  {
   "cell_type": "code",
   "execution_count": 17,
   "metadata": {
    "collapsed": false
   },
   "outputs": [],
   "source": [
    "gl_subset.reset_index(inplace=True)"
   ]
  },
  {
   "cell_type": "code",
   "execution_count": null,
   "metadata": {
    "collapsed": false
   },
   "outputs": [],
   "source": [
    "Xy = injury_subset.merge(gl_subset, left_on='Player', right_on='PLAYER_NAME', how='outer')"
   ]
  },
  {
   "cell_type": "code",
   "execution_count": null,
   "metadata": {
    "collapsed": false
   },
   "outputs": [],
   "source": [
    "Xy[['Player', 'PLAYER_NAME', 'Date', 'YEAR', 'MONTH']].shape"
   ]
  },
  {
   "cell_type": "code",
   "execution_count": null,
   "metadata": {
    "collapsed": false
   },
   "outputs": [],
   "source": [
    "# drop players who did not player in Jan 2014\n",
    "Xy = Xy[Xy['PLAYER_NAME'].notnull() == True]"
   ]
  },
  {
   "cell_type": "code",
   "execution_count": null,
   "metadata": {
    "collapsed": false
   },
   "outputs": [],
   "source": [
    "Xy['Injured'] = Xy['Notes'].notnull()"
   ]
  },
  {
   "cell_type": "code",
   "execution_count": null,
   "metadata": {
    "collapsed": false
   },
   "outputs": [],
   "source": [
    "Xy_drop_cols = ['Date', 'Team', 'Player', 'Notes', 'Year', 'Month', 'Day', 'PLAYER_NAME',\n",
    "                'PLAYER_ID', 'YEAR', 'MONTH', 'DAY']\n",
    "Xy.drop(Xy_drop_cols, axis=1, inplace=True)"
   ]
  },
  {
   "cell_type": "code",
   "execution_count": null,
   "metadata": {
    "collapsed": false
   },
   "outputs": [],
   "source": [
    "pd.scatter_matrix(Xy, figsize=(20,20));"
   ]
  },
  {
   "cell_type": "code",
   "execution_count": null,
   "metadata": {
    "collapsed": false
   },
   "outputs": [],
   "source": [
    "Xy.corr()"
   ]
  },
  {
   "cell_type": "code",
   "execution_count": null,
   "metadata": {
    "collapsed": false
   },
   "outputs": [],
   "source": [
    "Xy.drop(['FGM', 'FG3M', 'FTM', 'REB', 'PTS'], axis=1, inplace=True)"
   ]
  },
  {
   "cell_type": "code",
   "execution_count": null,
   "metadata": {
    "collapsed": false
   },
   "outputs": [],
   "source": [
    "pd.scatter_matrix(Xy, figsize=(20, 20));"
   ]
  },
  {
   "cell_type": "code",
   "execution_count": null,
   "metadata": {
    "collapsed": true
   },
   "outputs": [],
   "source": [
    "y = Xy['Injured']"
   ]
  },
  {
   "cell_type": "code",
   "execution_count": null,
   "metadata": {
    "collapsed": false
   },
   "outputs": [],
   "source": [
    "X  = Xy.drop('Injured', axis=1)"
   ]
  },
  {
   "cell_type": "code",
   "execution_count": null,
   "metadata": {
    "collapsed": false
   },
   "outputs": [],
   "source": [
    "X_train, X_test, y_train, y_test = train_test_split(X, y, test_size=.25)"
   ]
  },
  {
   "cell_type": "code",
   "execution_count": null,
   "metadata": {
    "collapsed": false
   },
   "outputs": [],
   "source": [
    "rfc = RandomForestClassifier(class_weight='balanced').fit(X_train, y_train)\n",
    "rfc.score(X_test, y_test)"
   ]
  },
  {
   "cell_type": "code",
   "execution_count": null,
   "metadata": {
    "collapsed": false
   },
   "outputs": [],
   "source": [
    "gbc = GradientBoostingClassifier().fit(X_train, y_train)\n",
    "gbc.score(X_test, y_test)"
   ]
  },
  {
   "cell_type": "code",
   "execution_count": null,
   "metadata": {
    "collapsed": false
   },
   "outputs": [],
   "source": [
    "logreg_cv = LogisticRegressionCV(class_weight='balanced').fit(X_train, y_train)\n",
    "logreg_cv.score(X_test, y_test)"
   ]
  },
  {
   "cell_type": "code",
   "execution_count": null,
   "metadata": {
    "collapsed": false
   },
   "outputs": [],
   "source": [
    "svc = SVC(class_weight='balanced', probability=True).fit(X_train, y_train)"
   ]
  },
  {
   "cell_type": "code",
   "execution_count": null,
   "metadata": {
    "collapsed": false,
    "scrolled": true
   },
   "outputs": [],
   "source": [
    "svc.score(X_test, y_test)"
   ]
  },
  {
   "cell_type": "code",
   "execution_count": null,
   "metadata": {
    "collapsed": true
   },
   "outputs": [],
   "source": []
  },
  {
   "cell_type": "code",
   "execution_count": null,
   "metadata": {
    "collapsed": true
   },
   "outputs": [],
   "source": []
  },
  {
   "cell_type": "code",
   "execution_count": null,
   "metadata": {
    "collapsed": false
   },
   "outputs": [],
   "source": [
    "roc = ROC_Curve(logreg_cv.predict_proba(X_test)[:, 1], y_test)"
   ]
  },
  {
   "cell_type": "code",
   "execution_count": null,
   "metadata": {
    "collapsed": false
   },
   "outputs": [],
   "source": [
    "tpr, fpr, thres = roc.calculate()"
   ]
  },
  {
   "cell_type": "code",
   "execution_count": null,
   "metadata": {
    "collapsed": false
   },
   "outputs": [],
   "source": [
    "roc.plot_curve(size=(10, 10))"
   ]
  },
  {
   "cell_type": "code",
   "execution_count": null,
   "metadata": {
    "collapsed": false
   },
   "outputs": [],
   "source": [
    "roc.calc_auc()"
   ]
  },
  {
   "cell_type": "code",
   "execution_count": 21,
   "metadata": {
    "collapsed": false
   },
   "outputs": [
    {
     "data": {
      "text/html": [
       "<div>\n",
       "<table border=\"1\" class=\"dataframe\">\n",
       "  <thead>\n",
       "    <tr style=\"text-align: right;\">\n",
       "      <th></th>\n",
       "      <th>PLAYER_NAME</th>\n",
       "      <th>Player</th>\n",
       "      <th>Year</th>\n",
       "    </tr>\n",
       "  </thead>\n",
       "  <tbody>\n",
       "    <tr>\n",
       "      <th>0</th>\n",
       "      <td>A.J. Price</td>\n",
       "      <td>NaN</td>\n",
       "      <td>NaN</td>\n",
       "    </tr>\n",
       "    <tr>\n",
       "      <th>1</th>\n",
       "      <td>Aaron Brooks</td>\n",
       "      <td>Aaron Brooks</td>\n",
       "      <td>2014</td>\n",
       "    </tr>\n",
       "    <tr>\n",
       "      <th>2</th>\n",
       "      <td>Aaron Gordon</td>\n",
       "      <td>Aaron Gordon</td>\n",
       "      <td>2014</td>\n",
       "    </tr>\n",
       "    <tr>\n",
       "      <th>3</th>\n",
       "      <td>Aaron Gray</td>\n",
       "      <td>NaN</td>\n",
       "      <td>NaN</td>\n",
       "    </tr>\n",
       "    <tr>\n",
       "      <th>4</th>\n",
       "      <td>Adonis Thomas</td>\n",
       "      <td>NaN</td>\n",
       "      <td>NaN</td>\n",
       "    </tr>\n",
       "    <tr>\n",
       "      <th>5</th>\n",
       "      <td>Adreian Payne</td>\n",
       "      <td>NaN</td>\n",
       "      <td>NaN</td>\n",
       "    </tr>\n",
       "    <tr>\n",
       "      <th>6</th>\n",
       "      <td>Al Harrington</td>\n",
       "      <td>NaN</td>\n",
       "      <td>NaN</td>\n",
       "    </tr>\n",
       "    <tr>\n",
       "      <th>7</th>\n",
       "      <td>Al Horford</td>\n",
       "      <td>NaN</td>\n",
       "      <td>NaN</td>\n",
       "    </tr>\n",
       "    <tr>\n",
       "      <th>8</th>\n",
       "      <td>Al Jefferson</td>\n",
       "      <td>Al Jefferson</td>\n",
       "      <td>2014</td>\n",
       "    </tr>\n",
       "    <tr>\n",
       "      <th>9</th>\n",
       "      <td>Al-Farouq Aminu</td>\n",
       "      <td>NaN</td>\n",
       "      <td>NaN</td>\n",
       "    </tr>\n",
       "    <tr>\n",
       "      <th>10</th>\n",
       "      <td>Alan Anderson</td>\n",
       "      <td>Alan Anderson</td>\n",
       "      <td>2014</td>\n",
       "    </tr>\n",
       "    <tr>\n",
       "      <th>11</th>\n",
       "      <td>Alec Burks</td>\n",
       "      <td>Alec Burks</td>\n",
       "      <td>2014</td>\n",
       "    </tr>\n",
       "    <tr>\n",
       "      <th>12</th>\n",
       "      <td>Alex Kirk</td>\n",
       "      <td>NaN</td>\n",
       "      <td>NaN</td>\n",
       "    </tr>\n",
       "    <tr>\n",
       "      <th>13</th>\n",
       "      <td>Alex Len</td>\n",
       "      <td>Alex Len</td>\n",
       "      <td>2014</td>\n",
       "    </tr>\n",
       "    <tr>\n",
       "      <th>14</th>\n",
       "      <td>Alexey Shved</td>\n",
       "      <td>Alexey Shved</td>\n",
       "      <td>2014</td>\n",
       "    </tr>\n",
       "    <tr>\n",
       "      <th>15</th>\n",
       "      <td>Alexis Ajinca</td>\n",
       "      <td>NaN</td>\n",
       "      <td>NaN</td>\n",
       "    </tr>\n",
       "    <tr>\n",
       "      <th>16</th>\n",
       "      <td>Allen Crabbe</td>\n",
       "      <td>NaN</td>\n",
       "      <td>NaN</td>\n",
       "    </tr>\n",
       "    <tr>\n",
       "      <th>17</th>\n",
       "      <td>Alonzo Gee</td>\n",
       "      <td>NaN</td>\n",
       "      <td>NaN</td>\n",
       "    </tr>\n",
       "    <tr>\n",
       "      <th>18</th>\n",
       "      <td>Amar'e Stoudemire</td>\n",
       "      <td>Amar'e Stoudemire</td>\n",
       "      <td>2014</td>\n",
       "    </tr>\n",
       "    <tr>\n",
       "      <th>19</th>\n",
       "      <td>Amir Johnson</td>\n",
       "      <td>NaN</td>\n",
       "      <td>NaN</td>\n",
       "    </tr>\n",
       "    <tr>\n",
       "      <th>20</th>\n",
       "      <td>Anderson Varejao</td>\n",
       "      <td>Anderson Varejao</td>\n",
       "      <td>2014</td>\n",
       "    </tr>\n",
       "    <tr>\n",
       "      <th>21</th>\n",
       "      <td>Andray Blatche</td>\n",
       "      <td>Andray Blatche</td>\n",
       "      <td>2014</td>\n",
       "    </tr>\n",
       "    <tr>\n",
       "      <th>22</th>\n",
       "      <td>Andre Dawkins</td>\n",
       "      <td>NaN</td>\n",
       "      <td>NaN</td>\n",
       "    </tr>\n",
       "    <tr>\n",
       "      <th>23</th>\n",
       "      <td>Andre Drummond</td>\n",
       "      <td>Andre Drummond</td>\n",
       "      <td>2014</td>\n",
       "    </tr>\n",
       "    <tr>\n",
       "      <th>24</th>\n",
       "      <td>Andre Iguodala</td>\n",
       "      <td>Andre Iguodala</td>\n",
       "      <td>2014</td>\n",
       "    </tr>\n",
       "    <tr>\n",
       "      <th>25</th>\n",
       "      <td>Andre Miller</td>\n",
       "      <td>NaN</td>\n",
       "      <td>NaN</td>\n",
       "    </tr>\n",
       "    <tr>\n",
       "      <th>26</th>\n",
       "      <td>Andre Roberson</td>\n",
       "      <td>Andre Roberson</td>\n",
       "      <td>2014</td>\n",
       "    </tr>\n",
       "    <tr>\n",
       "      <th>27</th>\n",
       "      <td>Andrea Bargnani</td>\n",
       "      <td>Andrea Bargnani</td>\n",
       "      <td>2014</td>\n",
       "    </tr>\n",
       "    <tr>\n",
       "      <th>28</th>\n",
       "      <td>Andrei Kirilenko</td>\n",
       "      <td>Andrei Kirilenko</td>\n",
       "      <td>2014</td>\n",
       "    </tr>\n",
       "    <tr>\n",
       "      <th>29</th>\n",
       "      <td>Andrew Bogut</td>\n",
       "      <td>Andrew Bogut</td>\n",
       "      <td>2014</td>\n",
       "    </tr>\n",
       "    <tr>\n",
       "      <th>...</th>\n",
       "      <td>...</td>\n",
       "      <td>...</td>\n",
       "      <td>...</td>\n",
       "    </tr>\n",
       "    <tr>\n",
       "      <th>528</th>\n",
       "      <td>Viacheslav Kravtsov</td>\n",
       "      <td>Viacheslav Kravtsov</td>\n",
       "      <td>2014</td>\n",
       "    </tr>\n",
       "    <tr>\n",
       "      <th>529</th>\n",
       "      <td>Victor Claver</td>\n",
       "      <td>NaN</td>\n",
       "      <td>NaN</td>\n",
       "    </tr>\n",
       "    <tr>\n",
       "      <th>530</th>\n",
       "      <td>Victor Oladipo</td>\n",
       "      <td>Victor Oladipo</td>\n",
       "      <td>2014</td>\n",
       "    </tr>\n",
       "    <tr>\n",
       "      <th>531</th>\n",
       "      <td>Vince Carter</td>\n",
       "      <td>NaN</td>\n",
       "      <td>NaN</td>\n",
       "    </tr>\n",
       "    <tr>\n",
       "      <th>532</th>\n",
       "      <td>Vitor Faverani</td>\n",
       "      <td>Vitor Faverani</td>\n",
       "      <td>2014</td>\n",
       "    </tr>\n",
       "    <tr>\n",
       "      <th>533</th>\n",
       "      <td>Wayne Ellington</td>\n",
       "      <td>NaN</td>\n",
       "      <td>NaN</td>\n",
       "    </tr>\n",
       "    <tr>\n",
       "      <th>534</th>\n",
       "      <td>Wesley Johnson</td>\n",
       "      <td>Wesley Johnson</td>\n",
       "      <td>2014</td>\n",
       "    </tr>\n",
       "    <tr>\n",
       "      <th>535</th>\n",
       "      <td>Wesley Matthews</td>\n",
       "      <td>NaN</td>\n",
       "      <td>NaN</td>\n",
       "    </tr>\n",
       "    <tr>\n",
       "      <th>536</th>\n",
       "      <td>Will Barton</td>\n",
       "      <td>NaN</td>\n",
       "      <td>NaN</td>\n",
       "    </tr>\n",
       "    <tr>\n",
       "      <th>537</th>\n",
       "      <td>Will Bynum</td>\n",
       "      <td>NaN</td>\n",
       "      <td>NaN</td>\n",
       "    </tr>\n",
       "    <tr>\n",
       "      <th>538</th>\n",
       "      <td>Will Cherry</td>\n",
       "      <td>NaN</td>\n",
       "      <td>NaN</td>\n",
       "    </tr>\n",
       "    <tr>\n",
       "      <th>539</th>\n",
       "      <td>Willie Green</td>\n",
       "      <td>NaN</td>\n",
       "      <td>NaN</td>\n",
       "    </tr>\n",
       "    <tr>\n",
       "      <th>540</th>\n",
       "      <td>Wilson Chandler</td>\n",
       "      <td>Wilson Chandler</td>\n",
       "      <td>2014</td>\n",
       "    </tr>\n",
       "    <tr>\n",
       "      <th>541</th>\n",
       "      <td>Xavier Henry</td>\n",
       "      <td>Xavier Henry</td>\n",
       "      <td>2014</td>\n",
       "    </tr>\n",
       "    <tr>\n",
       "      <th>542</th>\n",
       "      <td>Zach LaVine</td>\n",
       "      <td>NaN</td>\n",
       "      <td>NaN</td>\n",
       "    </tr>\n",
       "    <tr>\n",
       "      <th>543</th>\n",
       "      <td>Zach Randolph</td>\n",
       "      <td>NaN</td>\n",
       "      <td>NaN</td>\n",
       "    </tr>\n",
       "    <tr>\n",
       "      <th>544</th>\n",
       "      <td>Zaza Pachulia</td>\n",
       "      <td>NaN</td>\n",
       "      <td>NaN</td>\n",
       "    </tr>\n",
       "    <tr>\n",
       "      <th>545</th>\n",
       "      <td>Zoran Dragic</td>\n",
       "      <td>NaN</td>\n",
       "      <td>NaN</td>\n",
       "    </tr>\n",
       "    <tr>\n",
       "      <th>546</th>\n",
       "      <td>NaN</td>\n",
       "      <td>Carlos Delfino</td>\n",
       "      <td>2014</td>\n",
       "    </tr>\n",
       "    <tr>\n",
       "      <th>547</th>\n",
       "      <td>NaN</td>\n",
       "      <td>Marcus Cousin</td>\n",
       "      <td>2014</td>\n",
       "    </tr>\n",
       "    <tr>\n",
       "      <th>548</th>\n",
       "      <td>NaN</td>\n",
       "      <td>C.J. Miles</td>\n",
       "      <td>2014</td>\n",
       "    </tr>\n",
       "    <tr>\n",
       "      <th>549</th>\n",
       "      <td>NaN</td>\n",
       "      <td>C.J. Watson</td>\n",
       "      <td>2014</td>\n",
       "    </tr>\n",
       "    <tr>\n",
       "      <th>550</th>\n",
       "      <td>NaN</td>\n",
       "      <td>J.J. Hickson</td>\n",
       "      <td>2014</td>\n",
       "    </tr>\n",
       "    <tr>\n",
       "      <th>551</th>\n",
       "      <td>NaN</td>\n",
       "      <td>T.J. Warren</td>\n",
       "      <td>2014</td>\n",
       "    </tr>\n",
       "    <tr>\n",
       "      <th>552</th>\n",
       "      <td>NaN</td>\n",
       "      <td>Glen Rice</td>\n",
       "      <td>2014</td>\n",
       "    </tr>\n",
       "    <tr>\n",
       "      <th>553</th>\n",
       "      <td>NaN</td>\n",
       "      <td>Roy Devyn</td>\n",
       "      <td>2014</td>\n",
       "    </tr>\n",
       "    <tr>\n",
       "      <th>554</th>\n",
       "      <td>NaN</td>\n",
       "      <td>P.J. Hairston</td>\n",
       "      <td>2014</td>\n",
       "    </tr>\n",
       "    <tr>\n",
       "      <th>555</th>\n",
       "      <td>NaN</td>\n",
       "      <td>Pacers</td>\n",
       "      <td>2014</td>\n",
       "    </tr>\n",
       "    <tr>\n",
       "      <th>556</th>\n",
       "      <td>NaN</td>\n",
       "      <td>K.J. McDaniels</td>\n",
       "      <td>2014</td>\n",
       "    </tr>\n",
       "    <tr>\n",
       "      <th>557</th>\n",
       "      <td>NaN</td>\n",
       "      <td>Damien Inglis</td>\n",
       "      <td>2014</td>\n",
       "    </tr>\n",
       "  </tbody>\n",
       "</table>\n",
       "<p>558 rows × 3 columns</p>\n",
       "</div>"
      ],
      "text/plain": [
       "             PLAYER_NAME               Player  Year\n",
       "0             A.J. Price                  NaN   NaN\n",
       "1           Aaron Brooks         Aaron Brooks  2014\n",
       "2           Aaron Gordon         Aaron Gordon  2014\n",
       "3             Aaron Gray                  NaN   NaN\n",
       "4          Adonis Thomas                  NaN   NaN\n",
       "5          Adreian Payne                  NaN   NaN\n",
       "6          Al Harrington                  NaN   NaN\n",
       "7             Al Horford                  NaN   NaN\n",
       "8           Al Jefferson         Al Jefferson  2014\n",
       "9        Al-Farouq Aminu                  NaN   NaN\n",
       "10         Alan Anderson        Alan Anderson  2014\n",
       "11            Alec Burks           Alec Burks  2014\n",
       "12             Alex Kirk                  NaN   NaN\n",
       "13              Alex Len             Alex Len  2014\n",
       "14          Alexey Shved         Alexey Shved  2014\n",
       "15         Alexis Ajinca                  NaN   NaN\n",
       "16          Allen Crabbe                  NaN   NaN\n",
       "17            Alonzo Gee                  NaN   NaN\n",
       "18     Amar'e Stoudemire    Amar'e Stoudemire  2014\n",
       "19          Amir Johnson                  NaN   NaN\n",
       "20      Anderson Varejao     Anderson Varejao  2014\n",
       "21        Andray Blatche       Andray Blatche  2014\n",
       "22         Andre Dawkins                  NaN   NaN\n",
       "23        Andre Drummond       Andre Drummond  2014\n",
       "24        Andre Iguodala       Andre Iguodala  2014\n",
       "25          Andre Miller                  NaN   NaN\n",
       "26        Andre Roberson       Andre Roberson  2014\n",
       "27       Andrea Bargnani      Andrea Bargnani  2014\n",
       "28      Andrei Kirilenko     Andrei Kirilenko  2014\n",
       "29          Andrew Bogut         Andrew Bogut  2014\n",
       "..                   ...                  ...   ...\n",
       "528  Viacheslav Kravtsov  Viacheslav Kravtsov  2014\n",
       "529        Victor Claver                  NaN   NaN\n",
       "530       Victor Oladipo       Victor Oladipo  2014\n",
       "531         Vince Carter                  NaN   NaN\n",
       "532       Vitor Faverani       Vitor Faverani  2014\n",
       "533      Wayne Ellington                  NaN   NaN\n",
       "534       Wesley Johnson       Wesley Johnson  2014\n",
       "535      Wesley Matthews                  NaN   NaN\n",
       "536          Will Barton                  NaN   NaN\n",
       "537           Will Bynum                  NaN   NaN\n",
       "538          Will Cherry                  NaN   NaN\n",
       "539         Willie Green                  NaN   NaN\n",
       "540      Wilson Chandler      Wilson Chandler  2014\n",
       "541         Xavier Henry         Xavier Henry  2014\n",
       "542          Zach LaVine                  NaN   NaN\n",
       "543        Zach Randolph                  NaN   NaN\n",
       "544        Zaza Pachulia                  NaN   NaN\n",
       "545         Zoran Dragic                  NaN   NaN\n",
       "546                  NaN       Carlos Delfino  2014\n",
       "547                  NaN        Marcus Cousin  2014\n",
       "548                  NaN           C.J. Miles  2014\n",
       "549                  NaN          C.J. Watson  2014\n",
       "550                  NaN         J.J. Hickson  2014\n",
       "551                  NaN          T.J. Warren  2014\n",
       "552                  NaN            Glen Rice  2014\n",
       "553                  NaN            Roy Devyn  2014\n",
       "554                  NaN        P.J. Hairston  2014\n",
       "555                  NaN               Pacers  2014\n",
       "556                  NaN       K.J. McDaniels  2014\n",
       "557                  NaN        Damien Inglis  2014\n",
       "\n",
       "[558 rows x 3 columns]"
      ]
     },
     "execution_count": 21,
     "metadata": {},
     "output_type": "execute_result"
    }
   ],
   "source": [
    "gl_subset.merge(injury_subset, left_on=['PLAYER_NAME', 'YEAR'], right_on=['Player', 'Year'], how='outer')[['PLAYER_NAME', 'Player', 'Year']]"
   ]
  },
  {
   "cell_type": "code",
   "execution_count": null,
   "metadata": {
    "collapsed": true
   },
   "outputs": [],
   "source": []
  }
 ],
 "metadata": {
  "kernelspec": {
   "display_name": "Python 2",
   "language": "python",
   "name": "python2"
  },
  "language_info": {
   "codemirror_mode": {
    "name": "ipython",
    "version": 2
   },
   "file_extension": ".py",
   "mimetype": "text/x-python",
   "name": "python",
   "nbconvert_exporter": "python",
   "pygments_lexer": "ipython2",
   "version": "2.7.11"
  }
 },
 "nbformat": 4,
 "nbformat_minor": 0
}
